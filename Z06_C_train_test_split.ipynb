{
 "cells": [
  {
   "cell_type": "markdown",
   "metadata": {},
   "source": [
    "# Train test split\n"
   ]
  },
  {
   "cell_type": "code",
   "execution_count": 1,
   "metadata": {
    "collapsed": true
   },
   "outputs": [],
   "source": [
    "import numpy as np\n",
    "import pandas as pd\n",
    "import scipy.stats as stats\n",
    "import sklearn.linear_model as lm\n",
    "from sklearn import datasets, linear_model\n",
    "import matplotlib.pyplot as plt\n",
    "\n",
    "from sklearn.preprocessing import PolynomialFeatures\n",
    "from sklearn.pipeline import make_pipeline\n",
    "\n",
    "from sklearn import  metrics"
   ]
  },
  {
   "cell_type": "markdown",
   "metadata": {},
   "source": [
    "Rozważmy następujący zbiór punktów:"
   ]
  },
  {
   "cell_type": "code",
   "execution_count": 2,
   "metadata": {},
   "outputs": [
    {
     "data": {
      "image/png": "[encoded data removed]",
      "text/plain": [
       "<Figure size 432x288 with 1 Axes>"
      ]
     },
     "metadata": {
      "needs_background": "light"
     },
     "output_type": "display_data"
    }
   ],
   "source": [
    "x = stats.uniform(0,3).rvs(100)\n",
    "f = lambda x: ((x*2-1)*(x**2-2)*(x-2)+3)\n",
    "y = f(x) + stats.norm(0,0.3).rvs(len(x))\n",
    "plt.plot(x, y, 'ok', ms=10);\n",
    "plt.show()"
   ]
  },
  {
   "cell_type": "markdown",
   "metadata": {},
   "source": [
    "# Przykład\n",
    "Podziel zbiór danych na część testową i treningową. \n",
    "Naucz model na części treningowej i ocen wyniki na części testowej."
   ]
  },
  {
   "cell_type": "code",
   "execution_count": 3,
   "metadata": {},
   "outputs": [
    {
     "name": "stdout",
     "output_type": "stream",
     "text": [
      "(60,) (60,)\n",
      "(40,) (40,)\n"
     ]
    }
   ],
   "source": [
    "from sklearn.model_selection import train_test_split\n",
    "X_train, X_test, y_train, y_test = train_test_split(x, y, test_size=0.4, random_state=0)\n",
    "\n",
    "print(X_train.shape, y_train.shape)\n",
    "print(X_test.shape, y_test.shape)"
   ]
  },
  {
   "cell_type": "code",
   "execution_count": 4,
   "metadata": {
    "collapsed": true
   },
   "outputs": [],
   "source": [
    "X_train=np.vstack(X_train)\n",
    "X_test=np.vstack(X_test)"
   ]
  },
  {
   "cell_type": "code",
   "execution_count": 5,
   "metadata": {},
   "outputs": [
    {
     "data": {
      "text/plain": [
       "array([ 2.24568973,  3.73895537, 14.91601694,  4.2192144 ,  0.55601225,\n",
       "       25.08355049,  3.19366928,  1.12243494,  0.49997631, 19.35535907,\n",
       "        0.50083459,  0.53829587,  3.37091922,  6.40870455,  2.77083342,\n",
       "        4.74044248, 12.07468781,  0.88200614, 12.3371257 ,  0.96511671,\n",
       "       20.55388068,  7.13169253,  5.92626626,  3.51085535,  2.48823646,\n",
       "        4.55788209,  5.58633278, 12.43269448,  3.86030212,  4.8765709 ,\n",
       "        5.51089283,  6.01910939,  0.56077025, 23.39979155,  7.4193171 ,\n",
       "        4.49378619,  1.31566763,  0.73566129, 25.49699375,  2.26577047])"
      ]
     },
     "execution_count": 5,
     "metadata": {},
     "output_type": "execute_result"
    }
   ],
   "source": [
    "model2 = make_pipeline(PolynomialFeatures(2), linear_model.LinearRegression())\n",
    "model2.fit(X_train, y_train)\n",
    "model2.predict(X_test)"
   ]
  },
  {
   "cell_type": "code",
   "execution_count": 6,
   "metadata": {},
   "outputs": [
    {
     "name": "stdout",
     "output_type": "stream",
     "text": [
      "Explained variance score: 0.8076637573564944\n",
      "Explained variance score: 0.8076637573564944\n",
      "Median absolute error: 3.1830539887712694\n",
      "Mean squared error: 14.865068373700518\n",
      "Mean absolute errors: 3.202031484347038\n"
     ]
    }
   ],
   "source": [
    "print(\"Explained variance score: {}\".format( metrics.explained_variance_score(y_test, model2.predict(X_test)) ))\n",
    "print(\"Explained variance score: {}\".format( metrics.explained_variance_score(y_test, model2.predict(X_test)) ))\n",
    "print(\"Median absolute error: {}\".format( metrics.median_absolute_error(y_test, model2.predict(X_test)) ))\n",
    "print(\"Mean squared error: {}\".format( metrics.mean_squared_error(y_test, model2.predict(X_test)) ))\n",
    "print(\"Mean absolute errors: {}\".format(metrics.mean_absolute_error(y_test, model2.predict(X_test)) ))"
   ]
  },
  {
   "cell_type": "markdown",
   "metadata": {},
   "source": [
    "# Zadanie\n",
    "Wylicz powyższe miary na zbiorze testowym dla wszystkich modeli nauczonych na trainie:\n",
    "\n",
    "- regrsji linowej\n",
    "- regrsji wielomianowej stopnia 2\n",
    "- regrsji wielomianowej stopnia 3\n",
    "- regrsji wielomianowej stopnia 4\n",
    "- regrsji wielomianowej stopnia 5\n",
    "- regrsji wielomianowej stopnia 25"
   ]
  },
  {
   "cell_type": "code",
   "execution_count": 7,
   "metadata": {
    "collapsed": true
   },
   "outputs": [
    {
     "name": "stdout",
     "output_type": "stream",
     "text": [
      "2 :\n",
      "Explained variance score: 0.8076637573564944\n",
      "Explained variance score: 0.8076637573564944\n",
      "Median absolute error: 3.1830539887712694\n",
      "Mean squared error: 14.865068373700518\n",
      "Mean absolute errors: 3.202031484347038\n",
      "3 :\n",
      "Explained variance score: 0.9928095937038901\n",
      "Explained variance score: 0.9928095937038901\n",
      "Median absolute error: 0.5717691008957944\n",
      "Mean squared error: 0.6463009764382689\n",
      "Mean absolute errors: 0.6375995333936537\n",
      "4 :\n",
      "Explained variance score: 0.998598661036693\n",
      "Explained variance score: 0.998598661036693\n",
      "Median absolute error: 0.22141919134424978\n",
      "Mean squared error: 0.1259300946830478\n",
      "Mean absolute errors: 0.2880437444958962\n",
      "5 :\n",
      "Explained variance score: 0.9985908969261575\n",
      "Explained variance score: 0.9985908969261575\n",
      "Median absolute error: 0.2244383905080046\n",
      "Mean squared error: 0.12618236653457238\n",
      "Mean absolute errors: 0.28896196744731756\n",
      "25 :\n",
      "Explained variance score: 0.9931709744217211\n",
      "Explained variance score: 0.9931709744217211\n",
      "Median absolute error: 0.3017439456501154\n",
      "Mean squared error: 0.5302061629162637\n",
      "Mean absolute errors: 0.4066740489699505\n"
     ]
    }
   ],
   "source": [
    "for i in {2,3,4,5,25}:\n",
    "    print(i,\":\")\n",
    "    X_train=np.vstack(X_train)\n",
    "    X_test=np.vstack(X_test)\n",
    "    model2 = make_pipeline(PolynomialFeatures(i), linear_model.LinearRegression())\n",
    "    model2.fit(X_train, y_train)\n",
    "    model2.predict(X_test)\n",
    "    print(\"Explained variance score: {}\".format( metrics.explained_variance_score(y_test, model2.predict(X_test)) ))\n",
    "    print(\"Explained variance score: {}\".format( metrics.explained_variance_score(y_test, model2.predict(X_test)) ))\n",
    "    print(\"Median absolute error: {}\".format( metrics.median_absolute_error(y_test, model2.predict(X_test)) ))\n",
    "    print(\"Mean squared error: {}\".format( metrics.mean_squared_error(y_test, model2.predict(X_test)) ))\n",
    "    print(\"Mean absolute errors: {}\".format(metrics.mean_absolute_error(y_test, model2.predict(X_test)) ))"
   ]
  },
  {
   "cell_type": "code",
   "execution_count": null,
   "metadata": {},
   "outputs": [],
   "source": []
  }
 ],
 "metadata": {
  "kernelspec": {
   "display_name": "Python 3",
   "language": "python",
   "name": "python3"
  },
  "language_info": {
   "codemirror_mode": {
    "name": "ipython",
    "version": 3
   },
   "file_extension": ".py",
   "mimetype": "text/x-python",
   "name": "python",
   "nbconvert_exporter": "python",
   "pygments_lexer": "ipython3",
   "version": "3.9.7"
  }
 },
 "nbformat": 4,
 "nbformat_minor": 2
}
