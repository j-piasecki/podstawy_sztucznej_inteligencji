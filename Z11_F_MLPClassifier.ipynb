{
 "cells": [
  {
   "cell_type": "markdown",
   "metadata": {},
   "source": [
    "# Wielowarstwowa sieć neuronowa\n",
    "\n",
    "(*Multilayer perceptron*, *feedforward neural network*)\n",
    "\n",
    "\n",
    "\n",
    "**Uwaga:** \"Input layer\" pomimo tego, że ma w nazwie słowo \"warstwa\", to tak naprawdę to nie jest żadna warstwa sieci... To są po prostu dane wejściowe... Niestety przyjęło się literaturze nazywanie tego w ten sposób, co jest mylące :(\n",
    "\n",
    "\n",
    "Sieci uczy sie metodą spadku gradientu (pewnymi wariantami tej metody). Uczenie wykorzystuje algorytm **propagacji wstecznej** (https://en.wikipedia.org/wiki/Backpropagation).\n",
    "\n",
    "<br>\n",
    "\n",
    "<br>\n",
    "\n",
    "<br>\n",
    "\n",
    "**Uwaga!** Sieci neuronowe absolutnie zawsze wymagają zestandaryzowanych danych! Niezależnie od tego czy wykorzystujemy regularyzację czy nie i niezależnie od typu sieci!\n",
    "\n",
    "<br>\n",
    "\n",
    "<br>\n",
    "\n",
    "### Fakt matematyczny: jednowarstwową siecią możemy otrzymać dowolny kształt. \n",
    "\n",
    "Co z tego wynika? To, że (teoretycznie) zawsze wystarczy sieć jednowarstwowa (odpowiednio duża). W praktyce rzeczywiście z reguły wystarcza jedna warstwa, ale mimo wszystko zawsze warto sprawdzić czy 2 (lub 3) nie zadziałają przypadkiem lepiej. Przy czym jeżeli dla dwóch wartsw jest gorzej, to nie ma sensu sprawdzać dla większej ilości."
   ]
  },
  {
   "cell_type": "code",
   "execution_count": 7,
   "metadata": {},
   "outputs": [],
   "source": [
    "import numpy as np\n",
    "\n",
    "from sklearn.model_selection import train_test_split\n",
    "from sklearn.preprocessing import StandardScaler\n",
    "from sklearn.metrics import roc_auc_score, accuracy_score\n",
    "\n",
    "\n",
    "from sklearn.linear_model import LogisticRegression \n",
    "from sklearn.tree import DecisionTreeClassifier\n",
    "from sklearn.svm import SVC\n",
    "from sklearn.ensemble import RandomForestClassifier\n",
    "from sklearn.discriminant_analysis import LinearDiscriminantAnalysis, QuadraticDiscriminantAnalysis\n",
    "\n",
    "import warnings\n",
    "warnings.filterwarnings(\"ignore\")"
   ]
  },
  {
   "cell_type": "markdown",
   "metadata": {},
   "source": [
    "# Zad\n",
    "* Wczytaj zbiór danych\n",
    "* Podziel dane na train test\n",
    "* Wykonaj uczenie modeli (dobierz najlepsze parametry)\n",
    "    * LogisticRegression\n",
    "    * LinearSVC\n",
    "    * SVC\n",
    "    * KNeighborsClassifier\n",
    "    * DecisionTreeClassifier\n",
    "    * RandomForestClassifier\n",
    "    * BaggingClassifier\n",
    "    * ExtraTreesClassifier\n",
    "    * AdaBoostClassifier\n",
    "    * GradientBoostingClassifier\n",
    "    * VotingClassifier\n",
    "    * xgboost.XGBClassifier\n",
    "* Porównaj wyniki na zbiorze uczącym    "
   ]
  },
  {
   "cell_type": "code",
   "execution_count": 8,
   "metadata": {},
   "outputs": [
    {
     "name": "stdout",
     "output_type": "stream",
     "text": [
      "(768, 8)\n",
      "0.3489583333333333\n"
     ]
    }
   ],
   "source": [
    "dataset = np.loadtxt('Dane/diabetes.csv', delimiter=\",\", skiprows=1)\n",
    "\n",
    "X = dataset[:,0:8]\n",
    "Y = dataset[:,8]\n",
    "\n",
    "print(X.shape)\n",
    "print(np.mean(Y))\n",
    "\n",
    "seed = 7\n",
    "test_size = 0.33\n",
    "X_train, X_test, y_train, y_test = train_test_split(X, Y, test_size=test_size, random_state=seed)\n",
    "\n",
    "from sklearn.model_selection import StratifiedKFold\n",
    "\n",
    "seed=123\n",
    "kfold = StratifiedKFold(n_splits=5, random_state=None)"
   ]
  },
  {
   "cell_type": "code",
   "execution_count": 10,
   "metadata": {},
   "outputs": [
    {
     "data": {
      "text/plain": [
       "{'classifier__C': 1, 'preprocessing': None}"
      ]
     },
     "execution_count": 10,
     "metadata": {},
     "output_type": "execute_result"
    }
   ],
   "source": [
    "from sklearn.model_selection import GridSearchCV\n",
    "from sklearn.preprocessing import StandardScaler\n",
    "from sklearn.pipeline import Pipeline\n",
    "from sklearn.svm import LinearSVC\n",
    "from sklearn.svm import SVC\n",
    "\n",
    "pipe = Pipeline([('preprocessing', StandardScaler()), ('classifier', LogisticRegression(C=1))])\n",
    "\n",
    "param_grid = {\n",
    "            'preprocessing': [StandardScaler(), None],\n",
    "            'classifier__C': [0.001, 0.01, 0.1, 1, 10, 100]\n",
    "}\n",
    "\n",
    "grid_1 = GridSearchCV(pipe, param_grid, cv=kfold, return_train_score=True)\n",
    "\n",
    "grid_1.fit(X_train, y_train)\n",
    "grid_1.best_params_"
   ]
  },
  {
   "cell_type": "code",
   "execution_count": 46,
   "metadata": {},
   "outputs": [
    {
     "data": {
      "text/plain": [
       "{'classifier__C': 0.1, 'preprocessing': StandardScaler()}"
      ]
     },
     "execution_count": 46,
     "metadata": {},
     "output_type": "execute_result"
    }
   ],
   "source": [
    "pipe = Pipeline([('preprocessing', StandardScaler()), ('classifier', LinearSVC(C=1))])\n",
    "\n",
    "param_grid = {\n",
    "            'preprocessing': [StandardScaler(), None],\n",
    "            'classifier__C': [0.001, 0.01, 0.1, 1, 10, 100]\n",
    "}\n",
    "\n",
    "grid_2 = GridSearchCV(pipe, param_grid, cv=kfold, return_train_score=True)\n",
    "\n",
    "grid_2.fit(X_train, y_train)\n",
    "grid_2.best_params_"
   ]
  },
  {
   "cell_type": "code",
   "execution_count": 32,
   "metadata": {},
   "outputs": [
    {
     "data": {
      "text/plain": [
       "{'classifier__C': 10,\n",
       " 'classifier__gamma': 0.01,\n",
       " 'preprocessing': StandardScaler()}"
      ]
     },
     "execution_count": 32,
     "metadata": {},
     "output_type": "execute_result"
    }
   ],
   "source": [
    "pipe = Pipeline([('preprocessing', StandardScaler()), ('classifier', SVC(kernel=\"rbf\", probability=True))])\n",
    "\n",
    "param_grid = {\n",
    "            'preprocessing': [StandardScaler(), None],\n",
    "            'classifier__C': [0.001, 0.01, 0.1, 1, 10, 100],\n",
    "            'classifier__gamma': [0.001, 0.01, 0.1, 1, 10, 100],\n",
    "}\n",
    "\n",
    "grid_3 = GridSearchCV(pipe, param_grid, cv=kfold, return_train_score=True)\n",
    "\n",
    "grid_3.fit(X_train, y_train)\n",
    "grid_3.best_params_"
   ]
  },
  {
   "cell_type": "code",
   "execution_count": 16,
   "metadata": {},
   "outputs": [
    {
     "data": {
      "text/plain": [
       "{'classifier__leaf_size': 10,\n",
       " 'classifier__n_neighbors': 10,\n",
       " 'preprocessing': None}"
      ]
     },
     "execution_count": 16,
     "metadata": {},
     "output_type": "execute_result"
    }
   ],
   "source": [
    "from sklearn.neighbors import KNeighborsClassifier\n",
    "\n",
    "pipe = Pipeline([('preprocessing', StandardScaler()), ('classifier', KNeighborsClassifier())])\n",
    "\n",
    "param_grid = {\n",
    "            'preprocessing': [StandardScaler(), None],\n",
    "            'classifier__n_neighbors': [1, 3, 5, 10],\n",
    "            'classifier__leaf_size': [10, 20, 30, 50],\n",
    "}\n",
    "\n",
    "grid_4 = GridSearchCV(pipe, param_grid, cv=kfold, return_train_score=True)\n",
    "\n",
    "grid_4.fit(X_train, y_train)\n",
    "grid_4.best_params_"
   ]
  },
  {
   "cell_type": "code",
   "execution_count": 17,
   "metadata": {},
   "outputs": [
    {
     "data": {
      "text/plain": [
       "{'classifier__max_depth': 3, 'preprocessing': StandardScaler()}"
      ]
     },
     "execution_count": 17,
     "metadata": {},
     "output_type": "execute_result"
    }
   ],
   "source": [
    "pipe = Pipeline([('preprocessing', StandardScaler()), ('classifier', DecisionTreeClassifier())])\n",
    "\n",
    "param_grid = {\n",
    "            'preprocessing': [StandardScaler(), None],\n",
    "            'classifier__max_depth': [1, 3, 5, 10, 20, 30],\n",
    "}\n",
    "\n",
    "grid_5 = GridSearchCV(pipe, param_grid, cv=kfold, return_train_score=True)\n",
    "\n",
    "grid_5.fit(X_train, y_train)\n",
    "grid_5.best_params_"
   ]
  },
  {
   "cell_type": "code",
   "execution_count": 18,
   "metadata": {},
   "outputs": [
    {
     "data": {
      "text/plain": [
       "{'classifier__max_depth': 5,\n",
       " 'classifier__n_estimators': 10,\n",
       " 'preprocessing': StandardScaler()}"
      ]
     },
     "execution_count": 18,
     "metadata": {},
     "output_type": "execute_result"
    }
   ],
   "source": [
    "pipe = Pipeline([('preprocessing', StandardScaler()), ('classifier', RandomForestClassifier())])\n",
    "\n",
    "param_grid = {\n",
    "            'preprocessing': [StandardScaler(), None],\n",
    "            'classifier__max_depth': [1, 3, 5, 10, 20, 30],\n",
    "            'classifier__n_estimators': [1, 3, 5, 10, 20],\n",
    "}\n",
    "\n",
    "grid_6 = GridSearchCV(pipe, param_grid, cv=kfold, return_train_score=True)\n",
    "\n",
    "grid_6.fit(X_train, y_train)\n",
    "grid_6.best_params_"
   ]
  },
  {
   "cell_type": "code",
   "execution_count": 19,
   "metadata": {},
   "outputs": [
    {
     "data": {
      "text/plain": [
       "{'classifier__max_samples': 0.5,\n",
       " 'classifier__n_estimators': 10,\n",
       " 'preprocessing': None}"
      ]
     },
     "execution_count": 19,
     "metadata": {},
     "output_type": "execute_result"
    }
   ],
   "source": [
    "from sklearn.ensemble import BaggingClassifier\n",
    "pipe = Pipeline([('preprocessing', StandardScaler()), ('classifier', BaggingClassifier())])\n",
    "\n",
    "param_grid = {\n",
    "            'preprocessing': [StandardScaler(), None],\n",
    "            'classifier__n_estimators': [1, 3, 5, 10, 20],\n",
    "            'classifier__max_samples': [0.1, 0.3, 0.5, 0.9],\n",
    "}\n",
    "\n",
    "grid_7 = GridSearchCV(pipe, param_grid, cv=kfold, return_train_score=True)\n",
    "\n",
    "grid_7.fit(X_train, y_train)\n",
    "grid_7.best_params_"
   ]
  },
  {
   "cell_type": "code",
   "execution_count": 20,
   "metadata": {},
   "outputs": [
    {
     "data": {
      "text/plain": [
       "{'classifier__max_depth': 10,\n",
       " 'classifier__n_estimators': 10,\n",
       " 'preprocessing': None}"
      ]
     },
     "execution_count": 20,
     "metadata": {},
     "output_type": "execute_result"
    }
   ],
   "source": [
    "from sklearn.ensemble import ExtraTreesClassifier\n",
    "pipe = Pipeline([('preprocessing', StandardScaler()), ('classifier', ExtraTreesClassifier())])\n",
    "\n",
    "param_grid = {\n",
    "            'preprocessing': [StandardScaler(), None],\n",
    "            'classifier__n_estimators': [1, 3, 5, 10, 20],\n",
    "            'classifier__max_depth': [2, 5, 10, 15, 20],\n",
    "}\n",
    "\n",
    "grid_8 = GridSearchCV(pipe, param_grid, cv=kfold, return_train_score=True)\n",
    "\n",
    "grid_8.fit(X_train, y_train)\n",
    "grid_8.best_params_"
   ]
  },
  {
   "cell_type": "code",
   "execution_count": 21,
   "metadata": {},
   "outputs": [
    {
     "data": {
      "text/plain": [
       "{'classifier__learning_rate': 0.5,\n",
       " 'classifier__n_estimators': 10,\n",
       " 'preprocessing': StandardScaler()}"
      ]
     },
     "execution_count": 21,
     "metadata": {},
     "output_type": "execute_result"
    }
   ],
   "source": [
    "from sklearn.ensemble import AdaBoostClassifier\n",
    "pipe = Pipeline([('preprocessing', StandardScaler()), ('classifier', AdaBoostClassifier())])\n",
    "\n",
    "param_grid = {\n",
    "            'preprocessing': [StandardScaler(), None],\n",
    "            'classifier__n_estimators': [1, 3, 5, 10, 20],\n",
    "            'classifier__learning_rate': [0.001, 0.01, 0.1, 0.5],\n",
    "}\n",
    "\n",
    "grid_9 = GridSearchCV(pipe, param_grid, cv=kfold, return_train_score=True)\n",
    "\n",
    "grid_9.fit(X_train, y_train)\n",
    "grid_9.best_params_"
   ]
  },
  {
   "cell_type": "code",
   "execution_count": 22,
   "metadata": {},
   "outputs": [
    {
     "data": {
      "text/plain": [
       "{'classifier__learning_rate': 0.5,\n",
       " 'classifier__n_estimators': 3,\n",
       " 'preprocessing': StandardScaler()}"
      ]
     },
     "execution_count": 22,
     "metadata": {},
     "output_type": "execute_result"
    }
   ],
   "source": [
    "from sklearn.ensemble import GradientBoostingClassifier\n",
    "pipe = Pipeline([('preprocessing', StandardScaler()), ('classifier', GradientBoostingClassifier())])\n",
    "\n",
    "param_grid = {\n",
    "            'preprocessing': [StandardScaler(), None],\n",
    "            'classifier__n_estimators': [1, 3, 5, 10, 20],\n",
    "            'classifier__learning_rate': [0.001, 0.01, 0.1, 0.5],\n",
    "}\n",
    "\n",
    "grid_10 = GridSearchCV(pipe, param_grid, cv=kfold, return_train_score=True)\n",
    "\n",
    "grid_10.fit(X_train, y_train)\n",
    "grid_10.best_params_"
   ]
  },
  {
   "cell_type": "code",
   "execution_count": 39,
   "metadata": {},
   "outputs": [
    {
     "data": {
      "text/plain": [
       "VotingClassifier(estimators=[('lr', LogisticRegression()),\n",
       "                             ('svc', SVC(probability=True)),\n",
       "                             ('dt', DecisionTreeClassifier())],\n",
       "                 voting='soft')"
      ]
     },
     "execution_count": 39,
     "metadata": {},
     "output_type": "execute_result"
    }
   ],
   "source": [
    "from sklearn.ensemble import VotingClassifier\n",
    "voting_clf = VotingClassifier([('lr', LogisticRegression()), ('svc', SVC(kernel=\"rbf\", probability=True)), ('dt', DecisionTreeClassifier())], voting='soft')\n",
    "voting_clf.fit(X_train, y_train)"
   ]
  },
  {
   "cell_type": "code",
   "execution_count": 30,
   "metadata": {},
   "outputs": [
    {
     "name": "stdout",
     "output_type": "stream",
     "text": [
      "Fitting 5 folds for each of 256 candidates, totalling 1280 fits\n"
     ]
    },
    {
     "data": {
      "text/plain": [
       "{'classifier__colsample_bytree': 0.5,\n",
       " 'classifier__gamma': 0.5,\n",
       " 'classifier__learning_rate': 0.01,\n",
       " 'classifier__max_depth': 5,\n",
       " 'classifier__min_child_weight': 1,\n",
       " 'classifier__n_estimators': 150,\n",
       " 'classifier__subsample': 0.5,\n",
       " 'preprocessing': StandardScaler()}"
      ]
     },
     "execution_count": 30,
     "metadata": {},
     "output_type": "execute_result"
    }
   ],
   "source": [
    "from xgboost import XGBClassifier\n",
    "pipe = Pipeline([('preprocessing', StandardScaler()), ('classifier', XGBClassifier())])\n",
    "\n",
    "param_grid = {\n",
    "    'preprocessing': [StandardScaler(), None],\n",
    "    'classifier__max_depth': [5, 8],\n",
    "    'classifier__learning_rate': [0.01, 0.05],\n",
    "    'classifier__n_estimators': [100, 150],\n",
    "    'classifier__gamma': [0.5, 1],\n",
    "    'classifier__colsample_bytree': [0.8, 0.5],\n",
    "    'classifier__subsample': [0.8, 0.5],\n",
    "    'classifier__min_child_weight': [1, 5]\n",
    "}\n",
    "\n",
    "grid_11 = GridSearchCV(pipe, param_grid, cv=kfold, return_train_score=True, verbose=1)\n",
    "\n",
    "grid_11.fit(X_train, y_train)\n",
    "grid_11.best_params_"
   ]
  },
  {
   "cell_type": "code",
   "execution_count": null,
   "metadata": {},
   "outputs": [],
   "source": []
  },
  {
   "cell_type": "code",
   "execution_count": 40,
   "metadata": {},
   "outputs": [
    {
     "name": "stdout",
     "output_type": "stream",
     "text": [
      "LR\n",
      "precision_score: 0.7435897435897436\n",
      "recall_score: 0.6304347826086957\n",
      "f1_score: 0.6823529411764706\n",
      "accuracy_score: 0.7874015748031497\n",
      "roc_auc_score: 0.8311191626409018\n",
      "SVM linear\n",
      "precision_score: 0.7341772151898734\n",
      "recall_score: 0.6304347826086957\n",
      "f1_score: 0.6783625730994152\n",
      "accuracy_score: 0.7834645669291339\n",
      "roc_auc_score: 0.829777241009125\n",
      "SVM RBF\n",
      "precision_score: 0.7236842105263158\n",
      "recall_score: 0.5978260869565217\n",
      "f1_score: 0.6547619047619048\n",
      "accuracy_score: 0.7716535433070866\n",
      "roc_auc_score: 0.8391706924315621\n",
      "KNN\n",
      "precision_score: 0.7121212121212122\n",
      "recall_score: 0.5108695652173914\n",
      "f1_score: 0.5949367088607596\n",
      "accuracy_score: 0.7480314960629921\n",
      "roc_auc_score: 0.7864667203435319\n",
      "DecisionTreeClassifier\n",
      "precision_score: 0.6666666666666666\n",
      "recall_score: 0.5652173913043478\n",
      "f1_score: 0.6117647058823529\n",
      "accuracy_score: 0.7401574803149606\n",
      "roc_auc_score: 0.8119296833064948\n",
      "BaggingClassifier\n",
      "precision_score: 0.7037037037037037\n",
      "recall_score: 0.6195652173913043\n",
      "f1_score: 0.6589595375722543\n",
      "accuracy_score: 0.7677165354330708\n",
      "roc_auc_score: 0.8311862587224905\n",
      "RandomForestClassifier\n",
      "precision_score: 0.6707317073170732\n",
      "recall_score: 0.5978260869565217\n",
      "f1_score: 0.632183908045977\n",
      "accuracy_score: 0.7480314960629921\n",
      "roc_auc_score: 0.8176663982823404\n",
      "ExtraTreesClassifier\n",
      "precision_score: 0.6716417910447762\n",
      "recall_score: 0.4891304347826087\n",
      "f1_score: 0.5660377358490566\n",
      "accuracy_score: 0.7283464566929134\n",
      "roc_auc_score: 0.8009594739667204\n",
      "AdaBoostClassifier\n",
      "precision_score: 0.6867469879518072\n",
      "recall_score: 0.6195652173913043\n",
      "f1_score: 0.6514285714285714\n",
      "accuracy_score: 0.7598425196850394\n",
      "roc_auc_score: 0.8131374127750939\n",
      "GradientBoostingClassifier\n",
      "precision_score: 0.6777777777777778\n",
      "recall_score: 0.6630434782608695\n",
      "f1_score: 0.6703296703296704\n",
      "accuracy_score: 0.7637795275590551\n",
      "roc_auc_score: 0.8169283413848631\n",
      "XGBClassifier\n",
      "precision_score: 0.6842105263157895\n",
      "recall_score: 0.5652173913043478\n",
      "f1_score: 0.6190476190476191\n",
      "accuracy_score: 0.7480314960629921\n",
      "roc_auc_score: 0.8313204508856683\n",
      "voting_clf\n",
      "precision_score: 0.6835443037974683\n",
      "recall_score: 0.5869565217391305\n",
      "f1_score: 0.6315789473684211\n",
      "accuracy_score: 0.7519685039370079\n",
      "roc_auc_score: 0.8136741814278046\n"
     ]
    }
   ],
   "source": [
    "from sklearn import  metrics\n",
    "\n",
    "\n",
    "models = []\n",
    "models.append(('LR', grid_1.best_estimator_))\n",
    "models.append(('SVM linear', grid_2.best_estimator_))\n",
    "models.append(('SVM RBF', grid_3.best_estimator_))\n",
    "models.append(('KNN', grid_4.best_estimator_))\n",
    "models.append(('DecisionTreeClassifier', grid_5.best_estimator_))\n",
    "models.append(('BaggingClassifier', grid_6.best_estimator_))\n",
    "models.append(('RandomForestClassifier', grid_7.best_estimator_))\n",
    "models.append(('ExtraTreesClassifier', grid_8.best_estimator_))\n",
    "models.append(('AdaBoostClassifier', grid_9.best_estimator_))\n",
    "models.append(('GradientBoostingClassifier', grid_10.best_estimator_))\n",
    "models.append(('XGBClassifier', grid_11.best_estimator_))\n",
    "models.append(('voting_clf', voting_clf))\n",
    "\n",
    "precision_score = []\n",
    "recall_score = []\n",
    "f1_score = []\n",
    "accuracy_score = []\n",
    "roc_auc_score = []\n",
    "for name, model in models:\n",
    "    print(name)\n",
    "    print(\"precision_score: {}\".format(metrics.precision_score(y_test , model.predict(X_test)) ))\n",
    "    print(\"recall_score: {}\".format( metrics.recall_score(y_test , model.predict(X_test)) ))\n",
    "    print(\"f1_score: {}\".format( metrics.f1_score(y_test , model.predict(X_test)) ))\n",
    "    print(\"accuracy_score: {}\".format( metrics.accuracy_score(y_test , model.predict(X_test)) ))\n",
    "    \n",
    "    if (name == 'SVM linear'):\n",
    "        print(\"roc_auc_score: {}\".format( metrics.roc_auc_score(y_test , model.decision_function(X_test)) ))            \n",
    "    else:\n",
    "        print(\"roc_auc_score: {}\".format( metrics.roc_auc_score(y_test , model.predict_proba(X_test)[:,1]) ))\n",
    "    \n",
    "    precision_score.append(metrics.precision_score(y_test , model.predict(X_test)))\n",
    "    recall_score.append(metrics.recall_score(y_test , model.predict(X_test)))\n",
    "    f1_score.append( metrics.f1_score(y_test , model.predict(X_test)))\n",
    "    accuracy_score.append(metrics.accuracy_score(y_test , model.predict(X_test)))\n",
    "    if (name == 'SVM linear'):\n",
    "        roc_auc_score.append(metrics.roc_auc_score(y_test , model.decision_function(X_test)))        \n",
    "    else:    \n",
    "        roc_auc_score.append(metrics.roc_auc_score(y_test , model.predict_proba(X_test)[:,1]))"
   ]
  },
  {
   "cell_type": "code",
   "execution_count": 42,
   "metadata": {},
   "outputs": [
    {
     "data": {
      "text/html": [
       "<div>\n",
       "<style scoped>\n",
       "    .dataframe tbody tr th:only-of-type {\n",
       "        vertical-align: middle;\n",
       "    }\n",
       "\n",
       "    .dataframe tbody tr th {\n",
       "        vertical-align: top;\n",
       "    }\n",
       "\n",
       "    .dataframe thead th {\n",
       "        text-align: right;\n",
       "    }\n",
       "</style>\n",
       "<table border=\"1\" class=\"dataframe\">\n",
       "  <thead>\n",
       "    <tr style=\"text-align: right;\">\n",
       "      <th></th>\n",
       "      <th>Method</th>\n",
       "      <th>precision_score</th>\n",
       "      <th>recall_score</th>\n",
       "      <th>f1_score</th>\n",
       "      <th>accuracy_score</th>\n",
       "      <th>roc_auc_score</th>\n",
       "    </tr>\n",
       "  </thead>\n",
       "  <tbody>\n",
       "    <tr>\n",
       "      <th>0</th>\n",
       "      <td>LR</td>\n",
       "      <td>0.743590</td>\n",
       "      <td>0.630435</td>\n",
       "      <td>0.682353</td>\n",
       "      <td>0.787402</td>\n",
       "      <td>0.831119</td>\n",
       "    </tr>\n",
       "    <tr>\n",
       "      <th>1</th>\n",
       "      <td>DVM Linear</td>\n",
       "      <td>0.734177</td>\n",
       "      <td>0.630435</td>\n",
       "      <td>0.678363</td>\n",
       "      <td>0.783465</td>\n",
       "      <td>0.829777</td>\n",
       "    </tr>\n",
       "    <tr>\n",
       "      <th>2</th>\n",
       "      <td>SVM rbf</td>\n",
       "      <td>0.723684</td>\n",
       "      <td>0.597826</td>\n",
       "      <td>0.654762</td>\n",
       "      <td>0.771654</td>\n",
       "      <td>0.839171</td>\n",
       "    </tr>\n",
       "    <tr>\n",
       "      <th>3</th>\n",
       "      <td>KNN</td>\n",
       "      <td>0.712121</td>\n",
       "      <td>0.510870</td>\n",
       "      <td>0.594937</td>\n",
       "      <td>0.748031</td>\n",
       "      <td>0.786467</td>\n",
       "    </tr>\n",
       "    <tr>\n",
       "      <th>4</th>\n",
       "      <td>DecisionTreeClassifier</td>\n",
       "      <td>0.666667</td>\n",
       "      <td>0.565217</td>\n",
       "      <td>0.611765</td>\n",
       "      <td>0.740157</td>\n",
       "      <td>0.811930</td>\n",
       "    </tr>\n",
       "    <tr>\n",
       "      <th>5</th>\n",
       "      <td>BaggingClassifier</td>\n",
       "      <td>0.703704</td>\n",
       "      <td>0.619565</td>\n",
       "      <td>0.658960</td>\n",
       "      <td>0.767717</td>\n",
       "      <td>0.831186</td>\n",
       "    </tr>\n",
       "    <tr>\n",
       "      <th>6</th>\n",
       "      <td>RandomForestClassifier</td>\n",
       "      <td>0.670732</td>\n",
       "      <td>0.597826</td>\n",
       "      <td>0.632184</td>\n",
       "      <td>0.748031</td>\n",
       "      <td>0.817666</td>\n",
       "    </tr>\n",
       "    <tr>\n",
       "      <th>7</th>\n",
       "      <td>ExtraTreesClassifier</td>\n",
       "      <td>0.671642</td>\n",
       "      <td>0.489130</td>\n",
       "      <td>0.566038</td>\n",
       "      <td>0.728346</td>\n",
       "      <td>0.800959</td>\n",
       "    </tr>\n",
       "    <tr>\n",
       "      <th>8</th>\n",
       "      <td>AdaBoostClassifier</td>\n",
       "      <td>0.686747</td>\n",
       "      <td>0.619565</td>\n",
       "      <td>0.651429</td>\n",
       "      <td>0.759843</td>\n",
       "      <td>0.813137</td>\n",
       "    </tr>\n",
       "    <tr>\n",
       "      <th>9</th>\n",
       "      <td>GradientBoostingClassifier</td>\n",
       "      <td>0.677778</td>\n",
       "      <td>0.663043</td>\n",
       "      <td>0.670330</td>\n",
       "      <td>0.763780</td>\n",
       "      <td>0.816928</td>\n",
       "    </tr>\n",
       "    <tr>\n",
       "      <th>10</th>\n",
       "      <td>XGBClassifier</td>\n",
       "      <td>0.684211</td>\n",
       "      <td>0.565217</td>\n",
       "      <td>0.619048</td>\n",
       "      <td>0.748031</td>\n",
       "      <td>0.831320</td>\n",
       "    </tr>\n",
       "    <tr>\n",
       "      <th>11</th>\n",
       "      <td>voting</td>\n",
       "      <td>0.683544</td>\n",
       "      <td>0.586957</td>\n",
       "      <td>0.631579</td>\n",
       "      <td>0.751969</td>\n",
       "      <td>0.813674</td>\n",
       "    </tr>\n",
       "  </tbody>\n",
       "</table>\n",
       "</div>"
      ],
      "text/plain": [
       "                        Method  precision_score  recall_score  f1_score  \\\n",
       "0                           LR         0.743590      0.630435  0.682353   \n",
       "1                   DVM Linear         0.734177      0.630435  0.678363   \n",
       "2                      SVM rbf         0.723684      0.597826  0.654762   \n",
       "3                          KNN         0.712121      0.510870  0.594937   \n",
       "4       DecisionTreeClassifier         0.666667      0.565217  0.611765   \n",
       "5            BaggingClassifier         0.703704      0.619565  0.658960   \n",
       "6       RandomForestClassifier         0.670732      0.597826  0.632184   \n",
       "7         ExtraTreesClassifier         0.671642      0.489130  0.566038   \n",
       "8           AdaBoostClassifier         0.686747      0.619565  0.651429   \n",
       "9   GradientBoostingClassifier         0.677778      0.663043  0.670330   \n",
       "10               XGBClassifier         0.684211      0.565217  0.619048   \n",
       "11                      voting         0.683544      0.586957  0.631579   \n",
       "\n",
       "    accuracy_score  roc_auc_score  \n",
       "0         0.787402       0.831119  \n",
       "1         0.783465       0.829777  \n",
       "2         0.771654       0.839171  \n",
       "3         0.748031       0.786467  \n",
       "4         0.740157       0.811930  \n",
       "5         0.767717       0.831186  \n",
       "6         0.748031       0.817666  \n",
       "7         0.728346       0.800959  \n",
       "8         0.759843       0.813137  \n",
       "9         0.763780       0.816928  \n",
       "10        0.748031       0.831320  \n",
       "11        0.751969       0.813674  "
      ]
     },
     "execution_count": 42,
     "metadata": {},
     "output_type": "execute_result"
    }
   ],
   "source": [
    "import pandas as pd\n",
    "d = {'precision_score': precision_score, \n",
    "     'recall_score': recall_score, \n",
    "     'f1_score': f1_score,\n",
    "     'accuracy_score' : accuracy_score,\n",
    "     'roc_auc_score' : roc_auc_score\n",
    "    }\n",
    "df = pd.DataFrame(data=d)\n",
    "df.insert(loc=0, column='Method', value=['LR','DVM Linear','SVM rbf','KNN', 'DecisionTreeClassifier','BaggingClassifier','RandomForestClassifier','ExtraTreesClassifier', 'AdaBoostClassifier','GradientBoostingClassifier','XGBClassifier', 'voting'])\n",
    "df"
   ]
  },
  {
   "cell_type": "markdown",
   "metadata": {},
   "source": [
    "# MLPClassifier\n",
    "\n",
    "Dodajmy model sieci neuronowej"
   ]
  },
  {
   "cell_type": "code",
   "execution_count": 43,
   "metadata": {},
   "outputs": [],
   "source": [
    "from sklearn.neural_network import MLPClassifier"
   ]
  },
  {
   "cell_type": "code",
   "execution_count": 44,
   "metadata": {},
   "outputs": [
    {
     "name": "stdout",
     "output_type": "stream",
     "text": [
      "Accuracy: 69.69% AUC:  0.7137681159420289\n"
     ]
    }
   ],
   "source": [
    "model = MLPClassifier((20,10))\n",
    "model.fit(X_train, y_train)\n",
    "\n",
    "y_pred = model.predict_proba(X_test)[:,1]\n",
    "predictions = y_pred.round()\n",
    "\n",
    "accuracy = metrics.accuracy_score(y_test, predictions)\n",
    "print(\"Accuracy: %.2f%%\" % (accuracy * 100.0), \"AUC: \", metrics.roc_auc_score(y_score=y_pred,y_true=y_test))"
   ]
  },
  {
   "cell_type": "markdown",
   "metadata": {},
   "source": [
    "# Zad\n",
    "Wykonaj Walidację krzyżową"
   ]
  },
  {
   "cell_type": "code",
   "execution_count": 47,
   "metadata": {},
   "outputs": [
    {
     "data": {
      "text/plain": [
       "{'classifier__batch_size': 16,\n",
       " 'classifier__hidden_layer_sizes': (20, 10),\n",
       " 'classifier__learning_rate_init': 0.001,\n",
       " 'classifier__max_iter': 50,\n",
       " 'preprocessing': StandardScaler()}"
      ]
     },
     "execution_count": 47,
     "metadata": {},
     "output_type": "execute_result"
    }
   ],
   "source": [
    "pipe = Pipeline([('preprocessing', StandardScaler()), ('classifier', MLPClassifier())])\n",
    "\n",
    "param_grid = {\n",
    "            'preprocessing': [StandardScaler(), None],\n",
    "            'classifier__hidden_layer_sizes': [(20,10)],\n",
    "            'classifier__learning_rate_init': [0.001],#, 0.01, 0.1],\n",
    "            'classifier__max_iter': [50],\n",
    "            'classifier__batch_size': [8, 16],\n",
    "}\n",
    "\n",
    "grid_14 = GridSearchCV(pipe, param_grid, cv=kfold, return_train_score=True)\n",
    "\n",
    "grid_14.fit(X_train, y_train)\n",
    "grid_14.best_params_"
   ]
  },
  {
   "cell_type": "code",
   "execution_count": 48,
   "metadata": {},
   "outputs": [
    {
     "data": {
      "text/plain": [
       "0.7834645669291339"
      ]
     },
     "execution_count": 48,
     "metadata": {},
     "output_type": "execute_result"
    }
   ],
   "source": [
    "metrics.accuracy_score(y_test, grid_2.best_estimator_.predict(X_test))"
   ]
  },
  {
   "cell_type": "code",
   "execution_count": null,
   "metadata": {},
   "outputs": [],
   "source": []
  },
  {
   "cell_type": "code",
   "execution_count": 50,
   "metadata": {},
   "outputs": [
    {
     "name": "stdout",
     "output_type": "stream",
     "text": [
      "LR\n",
      "precision_score: 0.7435897435897436\n",
      "recall_score: 0.6304347826086957\n",
      "f1_score: 0.6823529411764706\n",
      "accuracy_score: 0.7874015748031497\n",
      "roc_auc_score: 0.8311191626409018\n",
      "SVM linear\n",
      "precision_score: 0.7341772151898734\n",
      "recall_score: 0.6304347826086957\n",
      "f1_score: 0.6783625730994152\n",
      "accuracy_score: 0.7834645669291339\n",
      "roc_auc_score: 0.829777241009125\n",
      "SVM rbf\n",
      "precision_score: 0.7236842105263158\n",
      "recall_score: 0.5978260869565217\n",
      "f1_score: 0.6547619047619048\n",
      "accuracy_score: 0.7716535433070866\n",
      "roc_auc_score: 0.8391706924315621\n",
      "KNN\n",
      "precision_score: 0.7121212121212122\n",
      "recall_score: 0.5108695652173914\n",
      "f1_score: 0.5949367088607596\n",
      "accuracy_score: 0.7480314960629921\n",
      "roc_auc_score: 0.7864667203435319\n",
      "DecisionTreeClassifier\n",
      "precision_score: 0.6666666666666666\n",
      "recall_score: 0.5652173913043478\n",
      "f1_score: 0.6117647058823529\n",
      "accuracy_score: 0.7401574803149606\n",
      "roc_auc_score: 0.8119296833064948\n",
      "BaggingClassifier\n",
      "precision_score: 0.7037037037037037\n",
      "recall_score: 0.6195652173913043\n",
      "f1_score: 0.6589595375722543\n",
      "accuracy_score: 0.7677165354330708\n",
      "roc_auc_score: 0.8311862587224905\n",
      "RandomForestClassifier\n",
      "precision_score: 0.6707317073170732\n",
      "recall_score: 0.5978260869565217\n",
      "f1_score: 0.632183908045977\n",
      "accuracy_score: 0.7480314960629921\n",
      "roc_auc_score: 0.8176663982823404\n",
      "ExtraTreesClassifier\n",
      "precision_score: 0.6716417910447762\n",
      "recall_score: 0.4891304347826087\n",
      "f1_score: 0.5660377358490566\n",
      "accuracy_score: 0.7283464566929134\n",
      "roc_auc_score: 0.8009594739667204\n",
      "AdaBoostClassifier\n",
      "precision_score: 0.6867469879518072\n",
      "recall_score: 0.6195652173913043\n",
      "f1_score: 0.6514285714285714\n",
      "accuracy_score: 0.7598425196850394\n",
      "roc_auc_score: 0.8131374127750939\n",
      "GradientBoostingClassifier\n",
      "precision_score: 0.6777777777777778\n",
      "recall_score: 0.6630434782608695\n",
      "f1_score: 0.6703296703296704\n",
      "accuracy_score: 0.7637795275590551\n",
      "roc_auc_score: 0.8169283413848631\n",
      "XGBClassifier\n",
      "precision_score: 0.6842105263157895\n",
      "recall_score: 0.5652173913043478\n",
      "f1_score: 0.6190476190476191\n",
      "accuracy_score: 0.7480314960629921\n",
      "roc_auc_score: 0.8313204508856683\n",
      "voting_clf\n",
      "precision_score: 0.6835443037974683\n",
      "recall_score: 0.5869565217391305\n",
      "f1_score: 0.6315789473684211\n",
      "accuracy_score: 0.7519685039370079\n",
      "roc_auc_score: 0.8136741814278046\n",
      "MLP\n",
      "precision_score: 0.6907216494845361\n",
      "recall_score: 0.7282608695652174\n",
      "f1_score: 0.7089947089947088\n",
      "accuracy_score: 0.7834645669291339\n",
      "roc_auc_score: 0.8323604401502952\n"
     ]
    }
   ],
   "source": [
    "from sklearn import  metrics\n",
    "\n",
    "\n",
    "models = []\n",
    "models.append(('LR', grid_1.best_estimator_))\n",
    "models.append(('SVM linear', grid_2.best_estimator_))\n",
    "models.append(('SVM rbf', grid_3.best_estimator_))\n",
    "models.append(('KNN', grid_4.best_estimator_))\n",
    "models.append(('DecisionTreeClassifier', grid_5.best_estimator_))\n",
    "models.append(('BaggingClassifier', grid_6.best_estimator_))\n",
    "models.append(('RandomForestClassifier', grid_7.best_estimator_))\n",
    "models.append(('ExtraTreesClassifier', grid_8.best_estimator_))\n",
    "models.append(('AdaBoostClassifier', grid_9.best_estimator_))\n",
    "models.append(('GradientBoostingClassifier', grid_10.best_estimator_))\n",
    "models.append(('XGBClassifier', grid_11.best_estimator_))\n",
    "models.append(('voting_clf', voting_clf))\n",
    "models.append(('MLP', grid_14.best_estimator_))\n",
    "\n",
    "precision_score = []\n",
    "recall_score = []\n",
    "f1_score = []\n",
    "accuracy_score = []\n",
    "roc_auc_score = []\n",
    "for name, model in models:\n",
    "    print(name)\n",
    "    print(\"precision_score: {}\".format(metrics.precision_score(y_test , model.predict(X_test)) ))\n",
    "    print(\"recall_score: {}\".format( metrics.recall_score(y_test , model.predict(X_test)) ))\n",
    "    print(\"f1_score: {}\".format( metrics.f1_score(y_test , model.predict(X_test)) ))\n",
    "    print(\"accuracy_score: {}\".format( metrics.accuracy_score(y_test , model.predict(X_test)) ))\n",
    "    \n",
    "    if (name == 'SVM linear'):\n",
    "        print(\"roc_auc_score: {}\".format( metrics.roc_auc_score(y_test , model.decision_function(X_test)) ))            \n",
    "    else:\n",
    "        print(\"roc_auc_score: {}\".format( metrics.roc_auc_score(y_test , model.predict_proba(X_test)[:,1]) ))\n",
    "    \n",
    "    precision_score.append(metrics.precision_score(y_test , model.predict(X_test)))\n",
    "    recall_score.append(metrics.recall_score(y_test , model.predict(X_test)))\n",
    "    f1_score.append( metrics.f1_score(y_test , model.predict(X_test)))\n",
    "    accuracy_score.append(metrics.accuracy_score(y_test , model.predict(X_test)))\n",
    "    if (name == 'SVM linear'):\n",
    "        roc_auc_score.append(metrics.roc_auc_score(y_test , model.decision_function(X_test)))        \n",
    "    else:    \n",
    "        roc_auc_score.append(metrics.roc_auc_score(y_test , model.predict_proba(X_test)[:,1]))"
   ]
  },
  {
   "cell_type": "code",
   "execution_count": 52,
   "metadata": {},
   "outputs": [
    {
     "data": {
      "text/html": [
       "<div>\n",
       "<style scoped>\n",
       "    .dataframe tbody tr th:only-of-type {\n",
       "        vertical-align: middle;\n",
       "    }\n",
       "\n",
       "    .dataframe tbody tr th {\n",
       "        vertical-align: top;\n",
       "    }\n",
       "\n",
       "    .dataframe thead th {\n",
       "        text-align: right;\n",
       "    }\n",
       "</style>\n",
       "<table border=\"1\" class=\"dataframe\">\n",
       "  <thead>\n",
       "    <tr style=\"text-align: right;\">\n",
       "      <th></th>\n",
       "      <th>Method</th>\n",
       "      <th>precision_score</th>\n",
       "      <th>recall_score</th>\n",
       "      <th>f1_score</th>\n",
       "      <th>accuracy_score</th>\n",
       "      <th>roc_auc_score</th>\n",
       "    </tr>\n",
       "  </thead>\n",
       "  <tbody>\n",
       "    <tr>\n",
       "      <th>0</th>\n",
       "      <td>SVM linear</td>\n",
       "      <td>0.743590</td>\n",
       "      <td>0.630435</td>\n",
       "      <td>0.682353</td>\n",
       "      <td>0.787402</td>\n",
       "      <td>0.831119</td>\n",
       "    </tr>\n",
       "    <tr>\n",
       "      <th>1</th>\n",
       "      <td>SVM rbf</td>\n",
       "      <td>0.734177</td>\n",
       "      <td>0.630435</td>\n",
       "      <td>0.678363</td>\n",
       "      <td>0.783465</td>\n",
       "      <td>0.829777</td>\n",
       "    </tr>\n",
       "    <tr>\n",
       "      <th>2</th>\n",
       "      <td>LR</td>\n",
       "      <td>0.723684</td>\n",
       "      <td>0.597826</td>\n",
       "      <td>0.654762</td>\n",
       "      <td>0.771654</td>\n",
       "      <td>0.839171</td>\n",
       "    </tr>\n",
       "    <tr>\n",
       "      <th>3</th>\n",
       "      <td>KNN</td>\n",
       "      <td>0.712121</td>\n",
       "      <td>0.510870</td>\n",
       "      <td>0.594937</td>\n",
       "      <td>0.748031</td>\n",
       "      <td>0.786467</td>\n",
       "    </tr>\n",
       "    <tr>\n",
       "      <th>4</th>\n",
       "      <td>DecisionTreeClassifier</td>\n",
       "      <td>0.666667</td>\n",
       "      <td>0.565217</td>\n",
       "      <td>0.611765</td>\n",
       "      <td>0.740157</td>\n",
       "      <td>0.811930</td>\n",
       "    </tr>\n",
       "    <tr>\n",
       "      <th>5</th>\n",
       "      <td>BaggingClassifier</td>\n",
       "      <td>0.703704</td>\n",
       "      <td>0.619565</td>\n",
       "      <td>0.658960</td>\n",
       "      <td>0.767717</td>\n",
       "      <td>0.831186</td>\n",
       "    </tr>\n",
       "    <tr>\n",
       "      <th>6</th>\n",
       "      <td>RandomForestClassifier</td>\n",
       "      <td>0.670732</td>\n",
       "      <td>0.597826</td>\n",
       "      <td>0.632184</td>\n",
       "      <td>0.748031</td>\n",
       "      <td>0.817666</td>\n",
       "    </tr>\n",
       "    <tr>\n",
       "      <th>7</th>\n",
       "      <td>ExtraTreesClassifier</td>\n",
       "      <td>0.671642</td>\n",
       "      <td>0.489130</td>\n",
       "      <td>0.566038</td>\n",
       "      <td>0.728346</td>\n",
       "      <td>0.800959</td>\n",
       "    </tr>\n",
       "    <tr>\n",
       "      <th>8</th>\n",
       "      <td>AdaBoostClassifier</td>\n",
       "      <td>0.686747</td>\n",
       "      <td>0.619565</td>\n",
       "      <td>0.651429</td>\n",
       "      <td>0.759843</td>\n",
       "      <td>0.813137</td>\n",
       "    </tr>\n",
       "    <tr>\n",
       "      <th>9</th>\n",
       "      <td>GradientBoostingClassifier</td>\n",
       "      <td>0.677778</td>\n",
       "      <td>0.663043</td>\n",
       "      <td>0.670330</td>\n",
       "      <td>0.763780</td>\n",
       "      <td>0.816928</td>\n",
       "    </tr>\n",
       "    <tr>\n",
       "      <th>10</th>\n",
       "      <td>XGBClassifier</td>\n",
       "      <td>0.684211</td>\n",
       "      <td>0.565217</td>\n",
       "      <td>0.619048</td>\n",
       "      <td>0.748031</td>\n",
       "      <td>0.831320</td>\n",
       "    </tr>\n",
       "    <tr>\n",
       "      <th>11</th>\n",
       "      <td>voting</td>\n",
       "      <td>0.683544</td>\n",
       "      <td>0.586957</td>\n",
       "      <td>0.631579</td>\n",
       "      <td>0.751969</td>\n",
       "      <td>0.813674</td>\n",
       "    </tr>\n",
       "    <tr>\n",
       "      <th>12</th>\n",
       "      <td>MLP</td>\n",
       "      <td>0.690722</td>\n",
       "      <td>0.728261</td>\n",
       "      <td>0.708995</td>\n",
       "      <td>0.783465</td>\n",
       "      <td>0.832360</td>\n",
       "    </tr>\n",
       "  </tbody>\n",
       "</table>\n",
       "</div>"
      ],
      "text/plain": [
       "                        Method  precision_score  recall_score  f1_score  \\\n",
       "0                   SVM linear         0.743590      0.630435  0.682353   \n",
       "1                      SVM rbf         0.734177      0.630435  0.678363   \n",
       "2                           LR         0.723684      0.597826  0.654762   \n",
       "3                          KNN         0.712121      0.510870  0.594937   \n",
       "4       DecisionTreeClassifier         0.666667      0.565217  0.611765   \n",
       "5            BaggingClassifier         0.703704      0.619565  0.658960   \n",
       "6       RandomForestClassifier         0.670732      0.597826  0.632184   \n",
       "7         ExtraTreesClassifier         0.671642      0.489130  0.566038   \n",
       "8           AdaBoostClassifier         0.686747      0.619565  0.651429   \n",
       "9   GradientBoostingClassifier         0.677778      0.663043  0.670330   \n",
       "10               XGBClassifier         0.684211      0.565217  0.619048   \n",
       "11                      voting         0.683544      0.586957  0.631579   \n",
       "12                         MLP         0.690722      0.728261  0.708995   \n",
       "\n",
       "    accuracy_score  roc_auc_score  \n",
       "0         0.787402       0.831119  \n",
       "1         0.783465       0.829777  \n",
       "2         0.771654       0.839171  \n",
       "3         0.748031       0.786467  \n",
       "4         0.740157       0.811930  \n",
       "5         0.767717       0.831186  \n",
       "6         0.748031       0.817666  \n",
       "7         0.728346       0.800959  \n",
       "8         0.759843       0.813137  \n",
       "9         0.763780       0.816928  \n",
       "10        0.748031       0.831320  \n",
       "11        0.751969       0.813674  \n",
       "12        0.783465       0.832360  "
      ]
     },
     "execution_count": 52,
     "metadata": {},
     "output_type": "execute_result"
    }
   ],
   "source": [
    "import pandas as pd\n",
    "d = {'precision_score': precision_score, \n",
    "     'recall_score': recall_score, \n",
    "     'f1_score': f1_score,\n",
    "     'accuracy_score' : accuracy_score,\n",
    "     'roc_auc_score' : roc_auc_score\n",
    "    }\n",
    "df = pd.DataFrame(data=d)\n",
    "df.insert(loc=0, column='Method', value=['SVM linear','SVM rbf','LR','KNN', 'DecisionTreeClassifier','BaggingClassifier','RandomForestClassifier','ExtraTreesClassifier', 'AdaBoostClassifier','GradientBoostingClassifier','XGBClassifier', 'voting', 'MLP'])\n",
    "df"
   ]
  },
  {
   "cell_type": "markdown",
   "metadata": {},
   "source": [
    "# Wczytaj dane treningowe i testowe"
   ]
  },
  {
   "cell_type": "code",
   "execution_count": 53,
   "metadata": {},
   "outputs": [],
   "source": [
    "# Wczytaj dane treningowe i testowe\n",
    "\n",
    "import pandas as pd\n",
    "\n",
    "train_set = pd.read_csv('Dane/adult/adult.data', sep=\", \",header = None)\n",
    "test_set = pd.read_csv('Dane/adult/adult.test', sep=\", \",skiprows = 1, header = None) # Make sure to skip a row for the test set\n",
    "\n",
    "\n",
    "col_labels = ['age', 'workclass', 'fnlwgt', 'education', 'education_num', 'marital_status', 'occupation', \n",
    "              'relationship', 'race', 'sex', 'capital_gain', 'capital_loss', 'hours_per_week', 'native_country',\n",
    "             'wage_class']\n",
    "train_set.columns = col_labels\n",
    "test_set.columns = col_labels\n",
    "\n",
    "train = train_set.replace('?', np.nan).dropna()\n",
    "test = test_set.replace('?', np.nan).dropna()\n",
    "\n",
    "\n",
    "\n",
    "dataset = pd.concat([train,test])\n",
    "\n",
    "dataset['wage_class'] = dataset.wage_class.replace({'<=50K.': 0,'<=50K':0, '>50K.':1, '>50K':1})\n",
    "\n",
    "dataset.drop([\"fnlwgt\"],axis=1,inplace=True)\n",
    "\n",
    "dataset.drop([\"education\"],axis=1,inplace=True)\n",
    "\n",
    "x = dataset.groupby('native_country')[\"wage_class\"].mean()\n",
    "\n",
    "d = dict(pd.cut(x[x.index!=\" United-States\"],5,labels=range(5)))\n",
    "\n",
    "dataset['native_country'] = dataset['native_country'].replace(d)\n",
    "\n",
    "dataset = pd.get_dummies(dataset,drop_first=True)\n",
    "\n",
    "train = dataset.iloc[:train.shape[0]]\n",
    "test = dataset.iloc[train.shape[0]:]\n",
    "\n",
    "X_train = train.drop(\"wage_class\",axis=1)\n",
    "y_train = train.wage_class\n",
    "\n",
    "X_test = test.drop(\"wage_class\",axis=1)\n",
    "y_test = test.wage_class\n",
    "\n",
    "# from sklearn.preprocessing import StandardScaler\n",
    "# sc = StandardScaler()\n",
    "# X_train = sc.fit_transform(X_train)\n",
    "# X_test = sc.transform(X_test)\n",
    "\n",
    "# print(X_train.shape)\n",
    "# X_test.shape"
   ]
  },
  {
   "cell_type": "code",
   "execution_count": 54,
   "metadata": {},
   "outputs": [
    {
     "name": "stdout",
     "output_type": "stream",
     "text": [
      "(30162, 41)\n",
      "(15060, 41)\n"
     ]
    }
   ],
   "source": [
    "print(X_train.shape)\n",
    "print(X_test.shape)"
   ]
  },
  {
   "cell_type": "markdown",
   "metadata": {},
   "source": [
    "# Zad\n",
    "Porównaj wyniki sieci na:\n",
    "* oryginalnych danych \n",
    "* na wystandaryzowanych"
   ]
  },
  {
   "cell_type": "code",
   "execution_count": 55,
   "metadata": {},
   "outputs": [
    {
     "data": {
      "text/plain": [
       "{'classifier__batch_size': 16,\n",
       " 'classifier__hidden_layer_sizes': (20, 10),\n",
       " 'classifier__learning_rate_init': 0.001,\n",
       " 'classifier__max_iter': 50,\n",
       " 'preprocessing': StandardScaler()}"
      ]
     },
     "execution_count": 55,
     "metadata": {},
     "output_type": "execute_result"
    }
   ],
   "source": [
    "pipe = Pipeline([('preprocessing', StandardScaler()), ('classifier', MLPClassifier())])\n",
    "\n",
    "param_grid = {\n",
    "            'preprocessing': [StandardScaler(), None],\n",
    "            'classifier__hidden_layer_sizes': [(20,10)],\n",
    "            'classifier__learning_rate_init': [0.001],\n",
    "            'classifier__max_iter': [50],\n",
    "            'classifier__batch_size': [16],\n",
    "}\n",
    "\n",
    "grid_15 = GridSearchCV(pipe, param_grid, cv=kfold, return_train_score=True)\n",
    "\n",
    "grid_15.fit(X_train, y_train)\n",
    "grid_15.best_params_"
   ]
  },
  {
   "cell_type": "code",
   "execution_count": 56,
   "metadata": {},
   "outputs": [
    {
     "data": {
      "text/plain": [
       "{'classifier__batch_size': 16,\n",
       " 'classifier__hidden_layer_sizes': (20, 10),\n",
       " 'classifier__learning_rate_init': 0.001,\n",
       " 'classifier__max_iter': 50}"
      ]
     },
     "execution_count": 56,
     "metadata": {},
     "output_type": "execute_result"
    }
   ],
   "source": [
    "pipe = Pipeline([('classifier', MLPClassifier())])\n",
    "\n",
    "param_grid = {\n",
    "            'classifier__hidden_layer_sizes': [(20,10)],\n",
    "            'classifier__learning_rate_init': [0.001],\n",
    "            'classifier__max_iter': [50],\n",
    "            'classifier__batch_size': [16],\n",
    "}\n",
    "\n",
    "grid_16 = GridSearchCV(pipe, param_grid, cv=kfold, return_train_score=True)\n",
    "\n",
    "grid_16.fit(X_train, y_train)\n",
    "grid_16.best_params_"
   ]
  },
  {
   "cell_type": "code",
   "execution_count": 58,
   "metadata": {},
   "outputs": [
    {
     "name": "stdout",
     "output_type": "stream",
     "text": [
      "MLP Scaled\n",
      "precision_score: 0.71760391198044\n",
      "recall_score: 0.6345945945945946\n",
      "f1_score: 0.6735513482501434\n",
      "accuracy_score: 0.848871181938911\n",
      "roc_auc_score: 0.90587652264941\n",
      "MLP\n",
      "precision_score: 0.6798882681564246\n",
      "recall_score: 0.6578378378378379\n",
      "f1_score: 0.6686813186813186\n",
      "accuracy_score: 0.8398406374501992\n",
      "roc_auc_score: 0.8991870003806623\n"
     ]
    },
    {
     "data": {
      "text/html": [
       "<div>\n",
       "<style scoped>\n",
       "    .dataframe tbody tr th:only-of-type {\n",
       "        vertical-align: middle;\n",
       "    }\n",
       "\n",
       "    .dataframe tbody tr th {\n",
       "        vertical-align: top;\n",
       "    }\n",
       "\n",
       "    .dataframe thead th {\n",
       "        text-align: right;\n",
       "    }\n",
       "</style>\n",
       "<table border=\"1\" class=\"dataframe\">\n",
       "  <thead>\n",
       "    <tr style=\"text-align: right;\">\n",
       "      <th></th>\n",
       "      <th>Method</th>\n",
       "      <th>precision_score</th>\n",
       "      <th>recall_score</th>\n",
       "      <th>f1_score</th>\n",
       "      <th>accuracy_score</th>\n",
       "      <th>roc_auc_score</th>\n",
       "    </tr>\n",
       "  </thead>\n",
       "  <tbody>\n",
       "    <tr>\n",
       "      <th>0</th>\n",
       "      <td>MLP Scaled</td>\n",
       "      <td>0.717604</td>\n",
       "      <td>0.634595</td>\n",
       "      <td>0.673551</td>\n",
       "      <td>0.848871</td>\n",
       "      <td>0.905877</td>\n",
       "    </tr>\n",
       "    <tr>\n",
       "      <th>1</th>\n",
       "      <td>MLP</td>\n",
       "      <td>0.679888</td>\n",
       "      <td>0.657838</td>\n",
       "      <td>0.668681</td>\n",
       "      <td>0.839841</td>\n",
       "      <td>0.899187</td>\n",
       "    </tr>\n",
       "  </tbody>\n",
       "</table>\n",
       "</div>"
      ],
      "text/plain": [
       "       Method  precision_score  recall_score  f1_score  accuracy_score  \\\n",
       "0  MLP Scaled         0.717604      0.634595  0.673551        0.848871   \n",
       "1         MLP         0.679888      0.657838  0.668681        0.839841   \n",
       "\n",
       "   roc_auc_score  \n",
       "0       0.905877  \n",
       "1       0.899187  "
      ]
     },
     "execution_count": 58,
     "metadata": {},
     "output_type": "execute_result"
    }
   ],
   "source": [
    "from sklearn import  metrics\n",
    "\n",
    "\n",
    "models = []\n",
    "models.append(('MLP Scaled', grid_15.best_estimator_))\n",
    "models.append(('MLP', grid_16.best_estimator_))\n",
    "\n",
    "precision_score = []\n",
    "recall_score = []\n",
    "f1_score = []\n",
    "accuracy_score = []\n",
    "roc_auc_score = []\n",
    "for name, model in models:\n",
    "    print(name)\n",
    "    print(\"precision_score: {}\".format(metrics.precision_score(y_test , model.predict(X_test)) ))\n",
    "    print(\"recall_score: {}\".format( metrics.recall_score(y_test , model.predict(X_test)) ))\n",
    "    print(\"f1_score: {}\".format( metrics.f1_score(y_test , model.predict(X_test)) ))\n",
    "    print(\"accuracy_score: {}\".format( metrics.accuracy_score(y_test , model.predict(X_test)) ))\n",
    "    print(\"roc_auc_score: {}\".format( metrics.roc_auc_score(y_test , model.predict_proba(X_test)[:,1]) ))\n",
    "    \n",
    "    precision_score.append(metrics.precision_score(y_test , model.predict(X_test)))\n",
    "    recall_score.append(metrics.recall_score(y_test , model.predict(X_test)))\n",
    "    f1_score.append( metrics.f1_score(y_test , model.predict(X_test)))\n",
    "    accuracy_score.append(metrics.accuracy_score(y_test , model.predict(X_test)))    \n",
    "    roc_auc_score.append(metrics.roc_auc_score(y_test , model.predict_proba(X_test)[:,1]))\n",
    "\n",
    "import pandas as pd\n",
    "d = {'precision_score': precision_score, \n",
    "     'recall_score': recall_score, \n",
    "     'f1_score': f1_score,\n",
    "     'accuracy_score' : accuracy_score,\n",
    "     'roc_auc_score' : roc_auc_score\n",
    "    }\n",
    "df = pd.DataFrame(data=d)\n",
    "df.insert(loc=0, column='Method', value=['MLP Scaled', 'MLP'])\n",
    "df"
   ]
  }
 ],
 "metadata": {
  "celltoolbar": "Raw Cell Format",
  "interpreter": {
   "hash": "81794d4967e6c3204c66dcd87b604927b115b27c00565d3d43f05ba2f3a2cb0d"
  },
  "kernelspec": {
   "display_name": "Python 3.9.5 64-bit",
   "language": "python",
   "name": "python3"
  },
  "language_info": {
   "codemirror_mode": {
    "name": "ipython",
    "version": 3
   },
   "file_extension": ".py",
   "mimetype": "text/x-python",
   "name": "python",
   "nbconvert_exporter": "python",
   "pygments_lexer": "ipython3",
   "version": "3.9.5"
  }
 },
 "nbformat": 4,
 "nbformat_minor": 2
}
