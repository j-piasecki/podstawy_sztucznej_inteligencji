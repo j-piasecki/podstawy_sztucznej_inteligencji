{
 "cells": [
  {
   "cell_type": "code",
   "execution_count": 1,
   "metadata": {},
   "outputs": [
    {
     "name": "stdout",
     "output_type": "stream",
     "text": [
      "2.8.0\n",
      "2.8.0\n"
     ]
    }
   ],
   "source": [
    "import tensorflow as tf\n",
    "from tensorflow import keras\n",
    "print(tf.__version__)\n",
    "\n",
    "print(keras.__version__)"
   ]
  },
  {
   "cell_type": "code",
   "execution_count": 2,
   "metadata": {},
   "outputs": [],
   "source": [
    "import numpy as np\n",
    "import pandas as pd\n",
    "import matplotlib.pyplot as plt\n",
    "import os"
   ]
  },
  {
   "cell_type": "code",
   "execution_count": 3,
   "metadata": {},
   "outputs": [
    {
     "name": "stderr",
     "output_type": "stream",
     "text": [
      "C:\\Users\\jakub\\AppData\\Local\\Temp\\ipykernel_24368\\357239312.py:6: ParserWarning: Falling back to the 'python' engine because the 'c' engine does not support regex separators (separators > 1 char and different from '\\s+' are interpreted as regex); you can avoid this warning by specifying engine='python'.\n",
      "  train_set = pd.read_csv('Dane/adult/adult.data', sep=\", \",header = None)\n",
      "C:\\Users\\jakub\\AppData\\Local\\Temp\\ipykernel_24368\\357239312.py:7: ParserWarning: Falling back to the 'python' engine because the 'c' engine does not support regex separators (separators > 1 char and different from '\\s+' are interpreted as regex); you can avoid this warning by specifying engine='python'.\n",
      "  test_set = pd.read_csv('Dane/adult/adult.test', sep=\", \",skiprows = 1, header = None) # Make sure to skip a row for the test set\n"
     ]
    },
    {
     "data": {
      "text/html": [
       "<div>\n",
       "<style scoped>\n",
       "    .dataframe tbody tr th:only-of-type {\n",
       "        vertical-align: middle;\n",
       "    }\n",
       "\n",
       "    .dataframe tbody tr th {\n",
       "        vertical-align: top;\n",
       "    }\n",
       "\n",
       "    .dataframe thead th {\n",
       "        text-align: right;\n",
       "    }\n",
       "</style>\n",
       "<table border=\"1\" class=\"dataframe\">\n",
       "  <thead>\n",
       "    <tr style=\"text-align: right;\">\n",
       "      <th></th>\n",
       "      <th>age</th>\n",
       "      <th>workclass</th>\n",
       "      <th>fnlwgt</th>\n",
       "      <th>education</th>\n",
       "      <th>education_num</th>\n",
       "      <th>marital_status</th>\n",
       "      <th>occupation</th>\n",
       "      <th>relationship</th>\n",
       "      <th>race</th>\n",
       "      <th>sex</th>\n",
       "      <th>capital_gain</th>\n",
       "      <th>capital_loss</th>\n",
       "      <th>hours_per_week</th>\n",
       "      <th>native_country</th>\n",
       "      <th>wage_class</th>\n",
       "    </tr>\n",
       "  </thead>\n",
       "  <tbody>\n",
       "    <tr>\n",
       "      <th>0</th>\n",
       "      <td>39</td>\n",
       "      <td>State-gov</td>\n",
       "      <td>77516</td>\n",
       "      <td>Bachelors</td>\n",
       "      <td>13</td>\n",
       "      <td>Never-married</td>\n",
       "      <td>Adm-clerical</td>\n",
       "      <td>Not-in-family</td>\n",
       "      <td>White</td>\n",
       "      <td>Male</td>\n",
       "      <td>2174</td>\n",
       "      <td>0</td>\n",
       "      <td>40</td>\n",
       "      <td>United-States</td>\n",
       "      <td>&lt;=50K</td>\n",
       "    </tr>\n",
       "    <tr>\n",
       "      <th>1</th>\n",
       "      <td>50</td>\n",
       "      <td>Self-emp-not-inc</td>\n",
       "      <td>83311</td>\n",
       "      <td>Bachelors</td>\n",
       "      <td>13</td>\n",
       "      <td>Married-civ-spouse</td>\n",
       "      <td>Exec-managerial</td>\n",
       "      <td>Husband</td>\n",
       "      <td>White</td>\n",
       "      <td>Male</td>\n",
       "      <td>0</td>\n",
       "      <td>0</td>\n",
       "      <td>13</td>\n",
       "      <td>United-States</td>\n",
       "      <td>&lt;=50K</td>\n",
       "    </tr>\n",
       "    <tr>\n",
       "      <th>2</th>\n",
       "      <td>38</td>\n",
       "      <td>Private</td>\n",
       "      <td>215646</td>\n",
       "      <td>HS-grad</td>\n",
       "      <td>9</td>\n",
       "      <td>Divorced</td>\n",
       "      <td>Handlers-cleaners</td>\n",
       "      <td>Not-in-family</td>\n",
       "      <td>White</td>\n",
       "      <td>Male</td>\n",
       "      <td>0</td>\n",
       "      <td>0</td>\n",
       "      <td>40</td>\n",
       "      <td>United-States</td>\n",
       "      <td>&lt;=50K</td>\n",
       "    </tr>\n",
       "    <tr>\n",
       "      <th>3</th>\n",
       "      <td>53</td>\n",
       "      <td>Private</td>\n",
       "      <td>234721</td>\n",
       "      <td>11th</td>\n",
       "      <td>7</td>\n",
       "      <td>Married-civ-spouse</td>\n",
       "      <td>Handlers-cleaners</td>\n",
       "      <td>Husband</td>\n",
       "      <td>Black</td>\n",
       "      <td>Male</td>\n",
       "      <td>0</td>\n",
       "      <td>0</td>\n",
       "      <td>40</td>\n",
       "      <td>United-States</td>\n",
       "      <td>&lt;=50K</td>\n",
       "    </tr>\n",
       "    <tr>\n",
       "      <th>4</th>\n",
       "      <td>28</td>\n",
       "      <td>Private</td>\n",
       "      <td>338409</td>\n",
       "      <td>Bachelors</td>\n",
       "      <td>13</td>\n",
       "      <td>Married-civ-spouse</td>\n",
       "      <td>Prof-specialty</td>\n",
       "      <td>Wife</td>\n",
       "      <td>Black</td>\n",
       "      <td>Female</td>\n",
       "      <td>0</td>\n",
       "      <td>0</td>\n",
       "      <td>40</td>\n",
       "      <td>Cuba</td>\n",
       "      <td>&lt;=50K</td>\n",
       "    </tr>\n",
       "  </tbody>\n",
       "</table>\n",
       "</div>"
      ],
      "text/plain": [
       "   age         workclass  fnlwgt  education  education_num  \\\n",
       "0   39         State-gov   77516  Bachelors             13   \n",
       "1   50  Self-emp-not-inc   83311  Bachelors             13   \n",
       "2   38           Private  215646    HS-grad              9   \n",
       "3   53           Private  234721       11th              7   \n",
       "4   28           Private  338409  Bachelors             13   \n",
       "\n",
       "       marital_status         occupation   relationship   race     sex  \\\n",
       "0       Never-married       Adm-clerical  Not-in-family  White    Male   \n",
       "1  Married-civ-spouse    Exec-managerial        Husband  White    Male   \n",
       "2            Divorced  Handlers-cleaners  Not-in-family  White    Male   \n",
       "3  Married-civ-spouse  Handlers-cleaners        Husband  Black    Male   \n",
       "4  Married-civ-spouse     Prof-specialty           Wife  Black  Female   \n",
       "\n",
       "   capital_gain  capital_loss  hours_per_week native_country wage_class  \n",
       "0          2174             0              40  United-States      <=50K  \n",
       "1             0             0              13  United-States      <=50K  \n",
       "2             0             0              40  United-States      <=50K  \n",
       "3             0             0              40  United-States      <=50K  \n",
       "4             0             0              40           Cuba      <=50K  "
      ]
     },
     "execution_count": 3,
     "metadata": {},
     "output_type": "execute_result"
    }
   ],
   "source": [
    "# Wczytaj dane treningowe i testowe\n",
    "import numpy as np\n",
    "import matplotlib.pyplot as plt\n",
    "import pandas as pd\n",
    "\n",
    "train_set = pd.read_csv('Dane/adult/adult.data', sep=\", \",header = None)\n",
    "test_set = pd.read_csv('Dane/adult/adult.test', sep=\", \",skiprows = 1, header = None) # Make sure to skip a row for the test set\n",
    "\n",
    "col_labels = ['age', 'workclass', 'fnlwgt', 'education', 'education_num', 'marital_status', 'occupation', \n",
    "              'relationship', 'race', 'sex', 'capital_gain', 'capital_loss', 'hours_per_week', 'native_country',\n",
    "             'wage_class']\n",
    "train_set.columns = col_labels\n",
    "test_set.columns = col_labels\n",
    "\n",
    "train = train_set.replace('?', np.nan).dropna()\n",
    "test = test_set.replace('?', np.nan).dropna()\n",
    "\n",
    "train_set.head()\n"
   ]
  },
  {
   "cell_type": "markdown",
   "metadata": {},
   "source": [
    "# Zad.\n",
    "Zróbmy szybki preprocesing"
   ]
  },
  {
   "cell_type": "code",
   "execution_count": 4,
   "metadata": {},
   "outputs": [],
   "source": [
    "dataset = pd.concat([train,test])\n",
    "\n",
    "dataset['wage_class'] = dataset.wage_class.replace({'<=50K.': 0,'<=50K':0, '>50K.':1, '>50K':1})\n",
    "\n",
    "dataset.drop([\"fnlwgt\"],axis=1,inplace=True)\n",
    "\n",
    "dataset.drop([\"education\"],axis=1,inplace=True)\n",
    "\n",
    "x = dataset.groupby('native_country')[\"wage_class\"].mean()\n",
    "\n",
    "d = dict(pd.cut(x[x.index!=\" United-States\"],5,labels=range(5)))\n",
    "\n",
    "dataset['native_country'] = dataset['native_country'].replace(d)\n",
    "\n",
    "dataset = pd.get_dummies(dataset,drop_first=True)\n",
    "\n",
    "train = dataset.iloc[:train.shape[0]]\n",
    "test = dataset.iloc[train.shape[0]:]\n",
    "\n",
    "X_train = train.drop(\"wage_class\",axis=1)\n",
    "y_train = train.wage_class\n",
    "\n",
    "X_test = test.drop(\"wage_class\",axis=1)\n",
    "y_test = test.wage_class\n"
   ]
  },
  {
   "cell_type": "markdown",
   "metadata": {},
   "source": [
    "# Zad\n",
    "Nauczmy prosty model."
   ]
  },
  {
   "cell_type": "code",
   "execution_count": 5,
   "metadata": {},
   "outputs": [
    {
     "name": "stdout",
     "output_type": "stream",
     "text": [
      "Model: \"sequential\"\n",
      "_________________________________________________________________\n",
      " Layer (type)                Output Shape              Param #   \n",
      "=================================================================\n",
      " dense (Dense)               (None, 100)               4200      \n",
      "                                                                 \n",
      " dense_1 (Dense)             (None, 50)                5050      \n",
      "                                                                 \n",
      " dense_2 (Dense)             (None, 10)                510       \n",
      "                                                                 \n",
      " dense_3 (Dense)             (None, 1)                 11        \n",
      "                                                                 \n",
      "=================================================================\n",
      "Total params: 9,771\n",
      "Trainable params: 9,771\n",
      "Non-trainable params: 0\n",
      "_________________________________________________________________\n"
     ]
    }
   ],
   "source": [
    "from keras.models import Sequential\n",
    "from keras.layers import Dense\n",
    "\n",
    "from keras.callbacks import History\n",
    "\n",
    "history = History()\n",
    "model = Sequential()\n",
    "model.add(Dense(100,activation=\"sigmoid\",input_shape=(X_train.shape[1],)))\n",
    "model.add(Dense(50,activation=\"sigmoid\"))\n",
    "model.add(Dense(10,activation=\"sigmoid\"))\n",
    "model.add(Dense(1,activation=\"sigmoid\"))\n",
    "model.summary()"
   ]
  },
  {
   "cell_type": "code",
   "execution_count": 6,
   "metadata": {},
   "outputs": [],
   "source": [
    "model.compile(loss=\"binary_crossentropy\",optimizer=\"Adam\", metrics=[\"accuracy\"])"
   ]
  },
  {
   "cell_type": "code",
   "execution_count": 7,
   "metadata": {},
   "outputs": [
    {
     "name": "stdout",
     "output_type": "stream",
     "text": [
      "Epoch 1/10\n",
      "943/943 [==============================] - 13s 10ms/step - loss: 0.4518 - accuracy: 0.7880 - val_loss: 0.3811 - val_accuracy: 0.8135\n",
      "Epoch 2/10\n",
      "943/943 [==============================] - 8s 9ms/step - loss: 0.3837 - accuracy: 0.8128 - val_loss: 0.3738 - val_accuracy: 0.8157\n",
      "Epoch 3/10\n",
      "943/943 [==============================] - 8s 8ms/step - loss: 0.3752 - accuracy: 0.8129 - val_loss: 0.3678 - val_accuracy: 0.8164\n",
      "Epoch 4/10\n",
      "943/943 [==============================] - 8s 9ms/step - loss: 0.3717 - accuracy: 0.8158 - val_loss: 0.3696 - val_accuracy: 0.8093\n",
      "Epoch 5/10\n",
      "943/943 [==============================] - 8s 9ms/step - loss: 0.3744 - accuracy: 0.8114 - val_loss: 0.3678 - val_accuracy: 0.8145\n",
      "Epoch 6/10\n",
      "943/943 [==============================] - 8s 9ms/step - loss: 0.3717 - accuracy: 0.8126 - val_loss: 0.3734 - val_accuracy: 0.8097\n",
      "Epoch 7/10\n",
      "943/943 [==============================] - 8s 8ms/step - loss: 0.3726 - accuracy: 0.8110 - val_loss: 0.3659 - val_accuracy: 0.8142\n",
      "Epoch 8/10\n",
      "943/943 [==============================] - 8s 9ms/step - loss: 0.3711 - accuracy: 0.8137 - val_loss: 0.3724 - val_accuracy: 0.8113\n",
      "Epoch 9/10\n",
      "943/943 [==============================] - 8s 9ms/step - loss: 0.3699 - accuracy: 0.8141 - val_loss: 0.3732 - val_accuracy: 0.8143\n",
      "Epoch 10/10\n",
      "943/943 [==============================] - 8s 9ms/step - loss: 0.3666 - accuracy: 0.8165 - val_loss: 0.3679 - val_accuracy: 0.8105\n"
     ]
    }
   ],
   "source": [
    "# history = model.fit(X_train, y_train, epochs=30, validation_data=(X_valid, y_valid))\n",
    "history = model.fit(X_train, y_train, validation_data= (X_test, y_test), batch_size=32,epochs=10)"
   ]
  },
  {
   "cell_type": "code",
   "execution_count": 8,
   "metadata": {},
   "outputs": [
    {
     "data": {
      "image/png": "[encoded data removed]",
      "text/plain": [
       "<Figure size 576x360 with 1 Axes>"
      ]
     },
     "metadata": {
      "needs_background": "light"
     },
     "output_type": "display_data"
    }
   ],
   "source": [
    "import pandas as pd\n",
    "\n",
    "pd.DataFrame(history.history).plot(figsize=(8, 5))\n",
    "plt.grid(True)\n",
    "plt.gca().set_ylim(0, 1)\n",
    "plt.show()"
   ]
  },
  {
   "cell_type": "code",
   "execution_count": 9,
   "metadata": {},
   "outputs": [
    {
     "name": "stdout",
     "output_type": "stream",
     "text": [
      "471/471 [==============================] - 3s 5ms/step - loss: 0.3679 - accuracy: 0.8105\n"
     ]
    },
    {
     "data": {
      "text/plain": [
       "[0.36788347363471985, 0.8104913830757141]"
      ]
     },
     "execution_count": 9,
     "metadata": {},
     "output_type": "execute_result"
    }
   ],
   "source": [
    "model.evaluate(X_test,y_test)"
   ]
  },
  {
   "cell_type": "code",
   "execution_count": 11,
   "metadata": {},
   "outputs": [
    {
     "data": {
      "text/plain": [
       "0.7543160690571049"
      ]
     },
     "execution_count": 11,
     "metadata": {},
     "output_type": "execute_result"
    }
   ],
   "source": [
    "from sklearn import  metrics\n",
    "metrics.accuracy_score(y_true= y_test, y_pred= np.argmax(model.predict(X_test), axis=-1) )"
   ]
  },
  {
   "cell_type": "markdown",
   "metadata": {},
   "source": [
    "# Zad\n",
    "\n",
    "Porównaj powyższy wynik z nauką na danych znormalizowanych z fróżnymi funkcjami aktywacji:\n",
    "* sigmoid\n",
    "* tanh\n",
    "* relu\n",
    "* elu\n",
    "* LeakyReLU"
   ]
  },
  {
   "cell_type": "code",
   "execution_count": 13,
   "metadata": {},
   "outputs": [
    {
     "name": "stdout",
     "output_type": "stream",
     "text": [
      "Epoch 1/10\n",
      "943/943 [==============================] - 9s 9ms/step - loss: 0.3859 - accuracy: 0.8247 - val_loss: 0.3429 - val_accuracy: 0.8432\n",
      "Epoch 2/10\n",
      "943/943 [==============================] - 8s 9ms/step - loss: 0.3353 - accuracy: 0.8468 - val_loss: 0.3342 - val_accuracy: 0.8445\n",
      "Epoch 3/10\n",
      "943/943 [==============================] - 9s 9ms/step - loss: 0.3285 - accuracy: 0.8473 - val_loss: 0.3275 - val_accuracy: 0.8479\n",
      "Epoch 4/10\n",
      "943/943 [==============================] - 8s 9ms/step - loss: 0.3243 - accuracy: 0.8494 - val_loss: 0.3257 - val_accuracy: 0.8480\n",
      "Epoch 5/10\n",
      "943/943 [==============================] - 8s 8ms/step - loss: 0.3222 - accuracy: 0.8498 - val_loss: 0.3240 - val_accuracy: 0.8475\n",
      "Epoch 6/10\n",
      "943/943 [==============================] - 8s 9ms/step - loss: 0.3213 - accuracy: 0.8501 - val_loss: 0.3252 - val_accuracy: 0.8475\n",
      "Epoch 7/10\n",
      "943/943 [==============================] - 9s 9ms/step - loss: 0.3198 - accuracy: 0.8504 - val_loss: 0.3238 - val_accuracy: 0.8488\n",
      "Epoch 8/10\n",
      "943/943 [==============================] - 9s 9ms/step - loss: 0.3180 - accuracy: 0.8511 - val_loss: 0.3217 - val_accuracy: 0.8487\n",
      "Epoch 9/10\n",
      "943/943 [==============================] - 9s 9ms/step - loss: 0.3166 - accuracy: 0.8511 - val_loss: 0.3202 - val_accuracy: 0.8506\n",
      "Epoch 10/10\n",
      "943/943 [==============================] - 9s 10ms/step - loss: 0.3151 - accuracy: 0.8522 - val_loss: 0.3216 - val_accuracy: 0.8489\n",
      "Epoch 1/10\n",
      "943/943 [==============================] - 11s 11ms/step - loss: 0.6206 - accuracy: 0.7890 - val_loss: 0.6646 - val_accuracy: 0.7387\n",
      "Epoch 2/10\n",
      "943/943 [==============================] - 9s 9ms/step - loss: 0.5178 - accuracy: 0.7990 - val_loss: 0.5451 - val_accuracy: 0.7507\n",
      "Epoch 3/10\n",
      "943/943 [==============================] - 9s 10ms/step - loss: 0.5171 - accuracy: 0.7982 - val_loss: 0.5119 - val_accuracy: 0.7940\n",
      "Epoch 4/10\n",
      "943/943 [==============================] - 9s 10ms/step - loss: 0.4855 - accuracy: 0.8045 - val_loss: 0.4507 - val_accuracy: 0.8240\n",
      "Epoch 5/10\n",
      "943/943 [==============================] - 9s 10ms/step - loss: 0.4849 - accuracy: 0.8067 - val_loss: 0.4859 - val_accuracy: 0.7945\n",
      "Epoch 6/10\n",
      "943/943 [==============================] - 9s 10ms/step - loss: 0.4239 - accuracy: 0.8296 - val_loss: 0.4474 - val_accuracy: 0.8361\n",
      "Epoch 7/10\n",
      "943/943 [==============================] - 10s 10ms/step - loss: 0.4281 - accuracy: 0.8222 - val_loss: 0.4284 - val_accuracy: 0.8299\n",
      "Epoch 8/10\n",
      "943/943 [==============================] - 9s 10ms/step - loss: 0.3970 - accuracy: 0.8352 - val_loss: 0.5546 - val_accuracy: 0.8003\n",
      "Epoch 9/10\n",
      "943/943 [==============================] - 9s 10ms/step - loss: 0.4336 - accuracy: 0.8185 - val_loss: 0.4796 - val_accuracy: 0.7809\n",
      "Epoch 10/10\n",
      "943/943 [==============================] - 10s 11ms/step - loss: 0.4170 - accuracy: 0.8122 - val_loss: 0.4238 - val_accuracy: 0.8137\n",
      "Epoch 1/10\n",
      "943/943 [==============================] - 10s 10ms/step - loss: 0.4631 - accuracy: 0.8209 - val_loss: 0.3795 - val_accuracy: 0.8442\n",
      "Epoch 2/10\n",
      "943/943 [==============================] - 10s 10ms/step - loss: 0.3551 - accuracy: 0.8445 - val_loss: 0.3389 - val_accuracy: 0.8461\n",
      "Epoch 3/10\n",
      "943/943 [==============================] - 9s 10ms/step - loss: 0.3350 - accuracy: 0.8485 - val_loss: 0.3389 - val_accuracy: 0.8489\n",
      "Epoch 4/10\n",
      "943/943 [==============================] - 8s 9ms/step - loss: 0.3372 - accuracy: 0.8506 - val_loss: 0.3650 - val_accuracy: 0.8484\n",
      "Epoch 5/10\n",
      "943/943 [==============================] - 9s 9ms/step - loss: 0.3370 - accuracy: 0.8528 - val_loss: 0.3359 - val_accuracy: 0.8518\n",
      "Epoch 6/10\n",
      "943/943 [==============================] - 9s 9ms/step - loss: 0.3203 - accuracy: 0.8520 - val_loss: 0.3380 - val_accuracy: 0.8473\n",
      "Epoch 7/10\n",
      "943/943 [==============================] - 9s 9ms/step - loss: 0.3193 - accuracy: 0.8545 - val_loss: 0.3417 - val_accuracy: 0.8491\n",
      "Epoch 8/10\n",
      "943/943 [==============================] - 8s 9ms/step - loss: 0.3248 - accuracy: 0.8558 - val_loss: 0.3405 - val_accuracy: 0.8507\n",
      "Epoch 9/10\n",
      "943/943 [==============================] - 9s 9ms/step - loss: 0.3236 - accuracy: 0.8567 - val_loss: 0.3455 - val_accuracy: 0.8496\n",
      "Epoch 10/10\n",
      "943/943 [==============================] - 9s 10ms/step - loss: 0.3163 - accuracy: 0.8570 - val_loss: 0.3499 - val_accuracy: 0.8521\n",
      "Epoch 1/10\n",
      "943/943 [==============================] - 9s 9ms/step - loss: 1.2058 - accuracy: 0.7951 - val_loss: 0.7255 - val_accuracy: 0.8210\n",
      "Epoch 2/10\n",
      "943/943 [==============================] - 8s 9ms/step - loss: 0.5940 - accuracy: 0.8233 - val_loss: 0.6569 - val_accuracy: 0.7844\n",
      "Epoch 3/10\n",
      "943/943 [==============================] - 9s 9ms/step - loss: 0.6315 - accuracy: 0.8180 - val_loss: 0.6865 - val_accuracy: 0.8168\n",
      "Epoch 4/10\n",
      "943/943 [==============================] - 8s 9ms/step - loss: 0.6020 - accuracy: 0.8300 - val_loss: 0.6800 - val_accuracy: 0.8129\n",
      "Epoch 5/10\n",
      "943/943 [==============================] - 8s 9ms/step - loss: 0.4899 - accuracy: 0.8308 - val_loss: 0.3923 - val_accuracy: 0.8406\n",
      "Epoch 6/10\n",
      "943/943 [==============================] - 8s 9ms/step - loss: 0.3886 - accuracy: 0.8405 - val_loss: 0.3885 - val_accuracy: 0.8464\n",
      "Epoch 7/10\n",
      "943/943 [==============================] - 9s 9ms/step - loss: 0.3814 - accuracy: 0.8391 - val_loss: 0.3830 - val_accuracy: 0.8446\n",
      "Epoch 8/10\n",
      "943/943 [==============================] - 8s 9ms/step - loss: 0.3868 - accuracy: 0.8317 - val_loss: 0.3759 - val_accuracy: 0.8448\n",
      "Epoch 9/10\n",
      "943/943 [==============================] - 8s 9ms/step - loss: 0.3725 - accuracy: 0.8395 - val_loss: 0.3934 - val_accuracy: 0.8351\n",
      "Epoch 10/10\n",
      "943/943 [==============================] - 8s 9ms/step - loss: 0.3795 - accuracy: 0.8416 - val_loss: 0.3742 - val_accuracy: 0.8469\n",
      "Epoch 1/10\n",
      "943/943 [==============================] - 9s 9ms/step - loss: 0.9571 - accuracy: 0.8016 - val_loss: 0.5121 - val_accuracy: 0.8371\n",
      "Epoch 2/10\n",
      "943/943 [==============================] - 8s 9ms/step - loss: 0.4508 - accuracy: 0.8325 - val_loss: 0.4480 - val_accuracy: 0.8364\n",
      "Epoch 3/10\n",
      "943/943 [==============================] - 8s 9ms/step - loss: 0.5629 - accuracy: 0.8173 - val_loss: 0.4112 - val_accuracy: 0.8364\n",
      "Epoch 4/10\n",
      "943/943 [==============================] - 8s 9ms/step - loss: 0.3924 - accuracy: 0.8369 - val_loss: 0.3942 - val_accuracy: 0.8388\n",
      "Epoch 5/10\n",
      "943/943 [==============================] - 9s 9ms/step - loss: 0.3796 - accuracy: 0.8415 - val_loss: 0.3766 - val_accuracy: 0.8434\n",
      "Epoch 6/10\n",
      "943/943 [==============================] - 8s 9ms/step - loss: 0.3986 - accuracy: 0.8370 - val_loss: 0.5668 - val_accuracy: 0.7591\n",
      "Epoch 7/10\n",
      "943/943 [==============================] - 8s 9ms/step - loss: 0.4255 - accuracy: 0.8278 - val_loss: 0.3999 - val_accuracy: 0.8414\n",
      "Epoch 8/10\n",
      "943/943 [==============================] - 9s 9ms/step - loss: 0.3855 - accuracy: 0.8456 - val_loss: 0.3768 - val_accuracy: 0.8491\n",
      "Epoch 9/10\n",
      "943/943 [==============================] - 8s 9ms/step - loss: 0.4420 - accuracy: 0.8229 - val_loss: 0.3897 - val_accuracy: 0.8378\n",
      "Epoch 10/10\n",
      "943/943 [==============================] - 8s 9ms/step - loss: 0.4012 - accuracy: 0.8378 - val_loss: 0.4063 - val_accuracy: 0.8414\n"
     ]
    }
   ],
   "source": [
    "from sklearn.preprocessing import StandardScaler\n",
    "scaler = StandardScaler()\n",
    "scaler.fit(X_train, y_train)\n",
    "\n",
    "act = [\"sigmoid\", \"tanh\", \"relu\", \"elu\", \"LeakyReLU\"]\n",
    "accuracy = []\n",
    "histories = []\n",
    "\n",
    "for activation in act:\n",
    "    history = History()\n",
    "    model = Sequential()\n",
    "    model.add(Dense(100,activation=activation,input_shape=(X_train.shape[1],)))\n",
    "    model.add(Dense(50,activation=activation))\n",
    "    model.add(Dense(10,activation=activation))\n",
    "    model.add(Dense(1,activation=activation))\n",
    "    model.compile(loss=\"binary_crossentropy\",optimizer=\"Adam\", metrics=[\"accuracy\"])\n",
    "    history = model.fit(scaler.transform(X_train), y_train, validation_data= (scaler.transform(X_test), y_test), batch_size=32,epochs=10)\n",
    "    accuracy.append(metrics.accuracy_score(y_true= y_test, y_pred= np.argmax(model.predict(scaler.transform(X_test)), axis=-1) ))\n",
    "    histories.append(history)"
   ]
  },
  {
   "cell_type": "markdown",
   "metadata": {},
   "source": [
    "# Zad. \n",
    "Stwórz wykres porównujący metody. "
   ]
  },
  {
   "cell_type": "code",
   "execution_count": 16,
   "metadata": {},
   "outputs": [
    {
     "data": {
      "image/png": "[encoded data removed]",
      "text/plain": [
       "<Figure size 576x360 with 1 Axes>"
      ]
     },
     "metadata": {
      "needs_background": "light"
     },
     "output_type": "display_data"
    }
   ],
   "source": [
    "df = pd.DataFrame()\n",
    "\n",
    "for (func, history) in zip(act, histories):\n",
    "    df[func] = history.history['accuracy']\n",
    "df.plot(figsize=(8, 5))\n",
    "plt.grid(True)\n",
    "plt.gca().set_ylim(0.6, 0.95)\n",
    "plt.show()"
   ]
  },
  {
   "cell_type": "code",
   "execution_count": null,
   "metadata": {},
   "outputs": [],
   "source": []
  }
 ],
 "metadata": {
  "interpreter": {
   "hash": "81794d4967e6c3204c66dcd87b604927b115b27c00565d3d43f05ba2f3a2cb0d"
  },
  "kernelspec": {
   "display_name": "Python 3.9.5 64-bit",
   "language": "python",
   "name": "python3"
  },
  "language_info": {
   "codemirror_mode": {
    "name": "ipython",
    "version": 3
   },
   "file_extension": ".py",
   "mimetype": "text/x-python",
   "name": "python",
   "nbconvert_exporter": "python",
   "pygments_lexer": "ipython3",
   "version": "3.9.5"
  }
 },
 "nbformat": 4,
 "nbformat_minor": 4
}
